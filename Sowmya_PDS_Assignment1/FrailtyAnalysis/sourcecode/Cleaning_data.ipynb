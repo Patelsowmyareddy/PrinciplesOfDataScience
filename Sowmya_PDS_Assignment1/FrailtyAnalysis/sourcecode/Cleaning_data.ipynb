{
 "cells": [
  {
   "cell_type": "code",
   "execution_count": 1,
   "id": "aa02bea3",
   "metadata": {},
   "outputs": [],
   "source": [
    "import pandas as pd"
   ]
  },
  {
   "cell_type": "markdown",
   "id": "f674bc46",
   "metadata": {},
   "source": [
    "# Loading raw data to clean"
   ]
  },
  {
   "cell_type": "code",
   "execution_count": 3,
   "id": "6ee05c77",
   "metadata": {},
   "outputs": [
    {
     "name": "stdout",
     "output_type": "stream",
     "text": [
      "   Height(Inches)  Weight(Pounds)  Age  GripStrength Frailty\n",
      "0            65.8             112   30            30       N\n",
      "1            71.5             136   19            31       N\n",
      "2            69.4             153   45            29       N\n",
      "3            68.2             142   22            28       Y\n",
      "4            67.8             144   29            24       Y\n",
      "5            68.7             123   50            26       N\n",
      "6            69.8             141   51            22       Y\n",
      "7            70.1             136   23            20       Y\n",
      "8            67.9             112   17            19       N\n",
      "9            66.8             120   39            31       N\n"
     ]
    }
   ],
   "source": [
    "df = pd.read_csv('../Raw_data/raw_yield_data.csv')\n",
    "\n",
    "print(df.to_string())"
   ]
  },
  {
   "cell_type": "markdown",
   "id": "5d97cc08",
   "metadata": {},
   "source": [
    "# Checking for null values "
   ]
  },
  {
   "cell_type": "code",
   "execution_count": 4,
   "id": "81a48398",
   "metadata": {},
   "outputs": [
    {
     "data": {
      "text/plain": [
       "Height(Inches)    0\n",
       "Weight(Pounds)    0\n",
       "Age               0\n",
       "GripStrength      0\n",
       "Frailty           0\n",
       "dtype: int64"
      ]
     },
     "execution_count": 4,
     "metadata": {},
     "output_type": "execute_result"
    }
   ],
   "source": [
    "df.isnull().sum()"
   ]
  },
  {
   "cell_type": "markdown",
   "id": "25ebfd46",
   "metadata": {},
   "source": [
    "# Storing cleaned data to Clean_data folder"
   ]
  },
  {
   "cell_type": "code",
   "execution_count": 7,
   "id": "ac074d3a",
   "metadata": {},
   "outputs": [],
   "source": [
    "df.to_csv('../Clean_data/clean_raw_yield_data')\n"
   ]
  },
  {
   "cell_type": "code",
   "execution_count": null,
   "id": "741360e0",
   "metadata": {},
   "outputs": [],
   "source": []
  }
 ],
 "metadata": {
  "kernelspec": {
   "display_name": "Python 3 (ipykernel)",
   "language": "python",
   "name": "python3"
  },
  "language_info": {
   "codemirror_mode": {
    "name": "ipython",
    "version": 3
   },
   "file_extension": ".py",
   "mimetype": "text/x-python",
   "name": "python",
   "nbconvert_exporter": "python",
   "pygments_lexer": "ipython3",
   "version": "3.9.13"
  }
 },
 "nbformat": 4,
 "nbformat_minor": 5
}
